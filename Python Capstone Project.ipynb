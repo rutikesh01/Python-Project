{
 "cells": [
  {
   "cell_type": "code",
   "execution_count": 2,
   "metadata": {},
   "outputs": [],
   "source": [
    "import pandas as pd\n",
    "import numpy as np"
   ]
  },
  {
   "cell_type": "markdown",
   "metadata": {},
   "source": [
    "## Task 1:There are three different tables as given above. Please make three dataframe in python and save them as three .csv files. From Task 2 to Task 10, use the saved .csv files only."
   ]
  },
  {
   "cell_type": "code",
   "execution_count": 3,
   "metadata": {},
   "outputs": [],
   "source": [
    "# Project DataFrame\n",
    "project_data = {\n",
    "    \"ID\": [\"A001\", \"A002\", \"A003\", \"A004\", \"A005\", \"A002\", \"A005\", \"A003\", \"A001\", \"A003\", \"A001\", \"A004\", \"A004\", \"A005\"],\n",
    "    \"Project\": [\"Project 1\", \"Project 2\", \"Project 3\", \"Project 4\", \"Project 5\", \n",
    "                \"Project 6\", \"Project 7\", \"Project 8\", \"Project 9\", \"Project 10\", \n",
    "                \"Project 11\", \"Project 12\", \"Project 13\", \"Project 14\"],\n",
    "    \"Cost\": [1002000, 2000000, 4500000, 5500000, np.nan, \n",
    "             680000, 400000, 350000, np.nan, 300000, \n",
    "             2000000, 1000000, 3000000, 200000],\n",
    "    \"Status\": [\"Finished\", \"Ongoing\", \"Finished\", \"Ongoing\", \"Finished\", \n",
    "               \"Failed\", \"Finished\", \"Failed\", \"Ongoing\", \"Finished\", \n",
    "               \"Failed\", \"Ongoing\", \"Finished\", \"Finished\"]\n",
    "}\n",
    "\n",
    "project_df = pd.DataFrame(project_data)\n",
    "\n",
    "# Employee DataFrame\n",
    "employee_data = {\n",
    "    \"ID\": [\"A001\", \"A002\", \"A003\", \"A004\", \"A005\"],\n",
    "    \"Name\": [\"John Alter\", \"Alice Luxumberg\", \"Tom Sabestine\", \"Nina Adgra\", \"Amy Johny\"],\n",
    "    \"Gender\": [\"M\", \"F\", \"M\", \"F\", \"F\"],\n",
    "    \"City\": [\"Paris\", \"London\", \"Berlin\", \"Newyork\", \"Madrid\"],\n",
    "    \"Age\": [25, 27, 29, 31, 30]\n",
    "}\n",
    "\n",
    "employee_df = pd.DataFrame(employee_data)\n",
    "\n",
    "# Seniority Level DataFrame\n",
    "seniority_data = {\n",
    "    \"ID\": [\"A001\", \"A002\", \"A003\", \"A004\", \"A005\"],\n",
    "    \"Designation Level\": [2, 2, 3, 2, 3]\n",
    "}\n",
    "\n",
    "seniority_df = pd.DataFrame(seniority_data)\n"
   ]
  },
  {
   "cell_type": "code",
   "execution_count": null,
   "metadata": {},
   "outputs": [],
   "source": [
    "# Save DataFrames as CSV files\n",
    "project_df.to_csv(\"Project.csv\", index=False)\n",
    "employee_df.to_csv(\"Employee.csv\", index=False)\n",
    "seniority_df.to_csv(\"Seniority.csv\", index=False)"
   ]
  },
  {
   "cell_type": "markdown",
   "metadata": {},
   "source": [
    "## Task 2 The cost column in the dataframe “Project” has some missing values. Your task is to compute these missing values. Replace the missing values by running average. You should use the “For” loop for this task."
   ]
  },
  {
   "cell_type": "code",
   "execution_count": 7,
   "metadata": {},
   "outputs": [
    {
     "name": "stdout",
     "output_type": "stream",
     "text": [
      "      ID     Project       Cost    Status\n",
      "0   A001   Project 1  1002000.0  Finished\n",
      "1   A002   Project 2  2000000.0   Ongoing\n",
      "2   A003   Project 3  4500000.0  Finished\n",
      "3   A004   Project 4  5500000.0   Ongoing\n",
      "4   A005   Project 5        NaN  Finished\n",
      "5   A002   Project 6   680000.0    Failed\n",
      "6   A005   Project 7   400000.0  Finished\n",
      "7   A003   Project 8   350000.0    Failed\n",
      "8   A001   Project 9        NaN   Ongoing\n",
      "9   A003  Project 10   300000.0  Finished\n",
      "10  A001  Project 11  2000000.0    Failed\n",
      "11  A004  Project 12  1000000.0   Ongoing\n",
      "12  A004  Project 13  3000000.0  Finished\n",
      "13  A005  Project 14   200000.0  Finished\n"
     ]
    }
   ],
   "source": [
    "# Load Project DataFrame from CSV\n",
    "project_df = pd.read_csv(\"Project.csv\")\n",
    "\n",
    "# Display the DataFrame\n",
    "print(project_df)"
   ]
  },
  {
   "cell_type": "code",
   "execution_count": 10,
   "metadata": {
    "scrolled": true
   },
   "outputs": [
    {
     "name": "stdout",
     "output_type": "stream",
     "text": [
      "      ID     Project          Cost    Status\n",
      "0   A001   Project 1  1.002000e+06  Finished\n",
      "1   A002   Project 2  2.000000e+06   Ongoing\n",
      "2   A003   Project 3  4.500000e+06  Finished\n",
      "3   A004   Project 4  5.500000e+06   Ongoing\n",
      "4   A005   Project 5  3.250500e+06  Finished\n",
      "5   A002   Project 6  6.800000e+05    Failed\n",
      "6   A005   Project 7  4.000000e+05  Finished\n",
      "7   A003   Project 8  3.500000e+05    Failed\n",
      "8   A001   Project 9  2.061714e+06   Ongoing\n",
      "9   A003  Project 10  3.000000e+05  Finished\n",
      "10  A001  Project 11  2.000000e+06    Failed\n",
      "11  A004  Project 12  1.000000e+06   Ongoing\n",
      "12  A004  Project 13  3.000000e+06  Finished\n",
      "13  A005  Project 14  2.000000e+05  Finished\n"
     ]
    }
   ],
   "source": [
    "# Convert 'Cost' to numeric (to handle any unexpected non-numeric values)\n",
    "project_df[\"Cost\"] = pd.to_numeric(project_df[\"Cost\"], errors='coerce')\n",
    "\n",
    "# Initialize variables for running sum and count\n",
    "running_sum = 0\n",
    "running_count = 0\n",
    "\n",
    "# Loop through the \"Cost\" column\n",
    "for i in range(len(project_df)):\n",
    "    if np.isnan(project_df.loc[i, \"Cost\"]):  # Check for missing value\n",
    "        if running_count > 0:  # Ensure we have at least one previous value\n",
    "            project_df.loc[i, \"Cost\"] = running_sum / running_count  # Compute running average\n",
    "    else:\n",
    "        running_sum += project_df.loc[i, \"Cost\"]  # Update running sum\n",
    "        running_count += 1  # Update count of valid values\n",
    "\n",
    "# Save the updated DataFrame\n",
    "project_df.to_csv(\"Project.csv\", index=False)\n",
    "\n",
    "# Display the updated DataFrame\n",
    "print(project_df)"
   ]
  },
  {
   "cell_type": "markdown",
   "metadata": {},
   "source": [
    "## Task 3 Split the name column in the Employee dataframe into two new columns “First Name”, and “LastName” and remove the older “name” column."
   ]
  },
  {
   "cell_type": "code",
   "execution_count": 11,
   "metadata": {},
   "outputs": [
    {
     "name": "stdout",
     "output_type": "stream",
     "text": [
      "     ID             Name Gender     City  Age\n",
      "0  A001       John Alter      M    Paris   25\n",
      "1  A002  Alice Luxumberg      F   London   27\n",
      "2  A003    Tom Sabestine      M   Berlin   29\n",
      "3  A004       Nina Adgra      F  Newyork   31\n",
      "4  A005        Amy Johny      F   Madrid   30\n"
     ]
    }
   ],
   "source": [
    "# Load Employee DataFrame from CSV\n",
    "employee_df = pd.read_csv(\"Employee.csv\")\n",
    "\n",
    "# Display the original DataFrame\n",
    "print(employee_df)"
   ]
  },
  {
   "cell_type": "code",
   "execution_count": null,
   "metadata": {},
   "outputs": [],
   "source": [
    "# Split the \"Name\" column into \"First Name\" and \"Last Name\"\n",
    "employee_df[['First Name', 'Last Name']] = employee_df['Name'].str.split(' ', 1, expand=True)\n",
    "\n",
    "# Drop the original \"Name\" column\n",
    "employee_df.drop(columns=['Name'], inplace=True)\n",
    "\n",
    "# Save the updated Employee DataFrame\n",
    "employee_df.to_csv(\"Employee.csv\", index=False)"
   ]
  },
  {
   "cell_type": "code",
   "execution_count": 15,
   "metadata": {},
   "outputs": [
    {
     "name": "stdout",
     "output_type": "stream",
     "text": [
      "     ID Gender     City  Age First Name  Last Name\n",
      "0  A001      M    Paris   25       John      Alter\n",
      "1  A002      F   London   27      Alice  Luxumberg\n",
      "2  A003      M   Berlin   29        Tom  Sabestine\n",
      "3  A004      F  Newyork   31       Nina      Adgra\n",
      "4  A005      F   Madrid   30        Amy      Johny\n"
     ]
    }
   ],
   "source": [
    "# Display the updated DataFrame\n",
    "print(employee_df)"
   ]
  },
  {
   "cell_type": "markdown",
   "metadata": {},
   "source": [
    "## Task 4: Join all three dataframes in one single dataframe. Name it “Final”"
   ]
  },
  {
   "cell_type": "code",
   "execution_count": 16,
   "metadata": {},
   "outputs": [
    {
     "name": "stdout",
     "output_type": "stream",
     "text": [
      "     ID    Project       Cost    Status\n",
      "0  A001  Project 1  1002000.0  Finished\n",
      "1  A002  Project 2  2000000.0   Ongoing\n",
      "2  A003  Project 3  4500000.0  Finished\n",
      "3  A004  Project 4  5500000.0   Ongoing\n",
      "4  A005  Project 5  3250500.0  Finished\n",
      "     ID Gender     City  Age First Name  Last Name\n",
      "0  A001      M    Paris   25       John      Alter\n",
      "1  A002      F   London   27      Alice  Luxumberg\n",
      "2  A003      M   Berlin   29        Tom  Sabestine\n",
      "3  A004      F  Newyork   31       Nina      Adgra\n",
      "4  A005      F   Madrid   30        Amy      Johny\n",
      "     ID  Designation Level\n",
      "0  A001                  2\n",
      "1  A002                  2\n",
      "2  A003                  3\n",
      "3  A004                  2\n",
      "4  A005                  3\n"
     ]
    }
   ],
   "source": [
    "# Load all three DataFrames\n",
    "project_df = pd.read_csv(\"Project.csv\")\n",
    "employee_df = pd.read_csv(\"Employee.csv\")\n",
    "seniority_df = pd.read_csv(\"Seniority.csv\")\n",
    "\n",
    "# Display the data to verify\n",
    "print(project_df.head())\n",
    "print(employee_df.head())\n",
    "print(seniority_df.head())"
   ]
  },
  {
   "cell_type": "code",
   "execution_count": 17,
   "metadata": {},
   "outputs": [
    {
     "name": "stdout",
     "output_type": "stream",
     "text": [
      "      ID     Project          Cost    Status Gender     City  Age First Name  \\\n",
      "0   A001   Project 1  1.002000e+06  Finished      M    Paris   25       John   \n",
      "1   A002   Project 2  2.000000e+06   Ongoing      F   London   27      Alice   \n",
      "2   A003   Project 3  4.500000e+06  Finished      M   Berlin   29        Tom   \n",
      "3   A004   Project 4  5.500000e+06   Ongoing      F  Newyork   31       Nina   \n",
      "4   A005   Project 5  3.250500e+06  Finished      F   Madrid   30        Amy   \n",
      "5   A002   Project 6  6.800000e+05    Failed      F   London   27      Alice   \n",
      "6   A005   Project 7  4.000000e+05  Finished      F   Madrid   30        Amy   \n",
      "7   A003   Project 8  3.500000e+05    Failed      M   Berlin   29        Tom   \n",
      "8   A001   Project 9  2.061714e+06   Ongoing      M    Paris   25       John   \n",
      "9   A003  Project 10  3.000000e+05  Finished      M   Berlin   29        Tom   \n",
      "10  A001  Project 11  2.000000e+06    Failed      M    Paris   25       John   \n",
      "11  A004  Project 12  1.000000e+06   Ongoing      F  Newyork   31       Nina   \n",
      "12  A004  Project 13  3.000000e+06  Finished      F  Newyork   31       Nina   \n",
      "13  A005  Project 14  2.000000e+05  Finished      F   Madrid   30        Amy   \n",
      "\n",
      "    Last Name  Designation Level  \n",
      "0       Alter                  2  \n",
      "1   Luxumberg                  2  \n",
      "2   Sabestine                  3  \n",
      "3       Adgra                  2  \n",
      "4       Johny                  3  \n",
      "5   Luxumberg                  2  \n",
      "6       Johny                  3  \n",
      "7   Sabestine                  3  \n",
      "8       Alter                  2  \n",
      "9   Sabestine                  3  \n",
      "10      Alter                  2  \n",
      "11      Adgra                  2  \n",
      "12      Adgra                  2  \n",
      "13      Johny                  3  \n"
     ]
    }
   ],
   "source": [
    "# Merge Project and Employee DataFrame on \"ID\"\n",
    "final_df = pd.merge(project_df, employee_df, on=\"ID\", how=\"left\")\n",
    "\n",
    "# Merge the result with Seniority DataFrame on \"ID\"\n",
    "final_df = pd.merge(final_df, seniority_df, on=\"ID\", how=\"left\")\n",
    "\n",
    "# Display the merged DataFrame\n",
    "print(final_df)"
   ]
  },
  {
   "cell_type": "code",
   "execution_count": 18,
   "metadata": {},
   "outputs": [],
   "source": [
    "# Save the final merged DataFrame\n",
    "final_df.to_csv(\"Final.csv\", index=False)"
   ]
  },
  {
   "cell_type": "markdown",
   "metadata": {},
   "source": [
    "## Task 5: Add a new bonus column in the Final dataframe. Give a 5% bonus concerning project cost only to employees who have finished the projects."
   ]
  },
  {
   "cell_type": "code",
   "execution_count": 19,
   "metadata": {},
   "outputs": [
    {
     "name": "stdout",
     "output_type": "stream",
     "text": [
      "      ID     Project          Cost    Status Gender     City  Age First Name  \\\n",
      "0   A001   Project 1  1.002000e+06  Finished      M    Paris   25       John   \n",
      "1   A002   Project 2  2.000000e+06   Ongoing      F   London   27      Alice   \n",
      "2   A003   Project 3  4.500000e+06  Finished      M   Berlin   29        Tom   \n",
      "3   A004   Project 4  5.500000e+06   Ongoing      F  Newyork   31       Nina   \n",
      "4   A005   Project 5  3.250500e+06  Finished      F   Madrid   30        Amy   \n",
      "5   A002   Project 6  6.800000e+05    Failed      F   London   27      Alice   \n",
      "6   A005   Project 7  4.000000e+05  Finished      F   Madrid   30        Amy   \n",
      "7   A003   Project 8  3.500000e+05    Failed      M   Berlin   29        Tom   \n",
      "8   A001   Project 9  2.061714e+06   Ongoing      M    Paris   25       John   \n",
      "9   A003  Project 10  3.000000e+05  Finished      M   Berlin   29        Tom   \n",
      "10  A001  Project 11  2.000000e+06    Failed      M    Paris   25       John   \n",
      "11  A004  Project 12  1.000000e+06   Ongoing      F  Newyork   31       Nina   \n",
      "12  A004  Project 13  3.000000e+06  Finished      F  Newyork   31       Nina   \n",
      "13  A005  Project 14  2.000000e+05  Finished      F   Madrid   30        Amy   \n",
      "\n",
      "    Last Name  Designation Level     Bonus  \n",
      "0       Alter                  2   50100.0  \n",
      "1   Luxumberg                  2       0.0  \n",
      "2   Sabestine                  3  225000.0  \n",
      "3       Adgra                  2       0.0  \n",
      "4       Johny                  3  162525.0  \n",
      "5   Luxumberg                  2       0.0  \n",
      "6       Johny                  3   20000.0  \n",
      "7   Sabestine                  3       0.0  \n",
      "8       Alter                  2       0.0  \n",
      "9   Sabestine                  3   15000.0  \n",
      "10      Alter                  2       0.0  \n",
      "11      Adgra                  2       0.0  \n",
      "12      Adgra                  2  150000.0  \n",
      "13      Johny                  3   10000.0  \n"
     ]
    }
   ],
   "source": [
    "# Load the Final DataFrame from CSV\n",
    "final_df = pd.read_csv(\"Final.csv\")\n",
    "\n",
    "# Apply bonus calculation: 5% of Cost if Status is \"Finished\", else 0\n",
    "final_df[\"Bonus\"] = final_df.apply(lambda row: row[\"Cost\"] * 0.05 if row[\"Status\"] == \"Finished\" else 0, axis=1)\n",
    "\n",
    "# Display the updated DataFrame\n",
    "print(final_df)\n",
    "\n",
    "# Save the updated Final DataFrame\n",
    "final_df.to_csv(\"Final.csv\", index=False)"
   ]
  },
  {
   "cell_type": "markdown",
   "metadata": {},
   "source": [
    "## Task 6:  Demote the designation level by 1, whose projects have status “fail”. Delete the employees record whose designation level is above 4."
   ]
  },
  {
   "cell_type": "code",
   "execution_count": 20,
   "metadata": {},
   "outputs": [
    {
     "name": "stdout",
     "output_type": "stream",
     "text": [
      "     ID    Project       Cost    Status Gender     City  Age First Name  \\\n",
      "0  A001  Project 1  1002000.0  Finished      M    Paris   25       John   \n",
      "1  A002  Project 2  2000000.0   Ongoing      F   London   27      Alice   \n",
      "2  A003  Project 3  4500000.0  Finished      M   Berlin   29        Tom   \n",
      "3  A004  Project 4  5500000.0   Ongoing      F  Newyork   31       Nina   \n",
      "4  A005  Project 5  3250500.0  Finished      F   Madrid   30        Amy   \n",
      "\n",
      "   Last Name  Designation Level     Bonus  \n",
      "0      Alter                  2   50100.0  \n",
      "1  Luxumberg                  2       0.0  \n",
      "2  Sabestine                  3  225000.0  \n",
      "3      Adgra                  2       0.0  \n",
      "4      Johny                  3  162525.0  \n"
     ]
    }
   ],
   "source": [
    "# Load the Final DataFrame\n",
    "final_df = pd.read_csv(\"Final.csv\")\n",
    "\n",
    "# Display initial data\n",
    "print(final_df.head())"
   ]
  },
  {
   "cell_type": "code",
   "execution_count": 21,
   "metadata": {},
   "outputs": [
    {
     "name": "stdout",
     "output_type": "stream",
     "text": [
      "     ID    Project       Cost    Status Gender     City  Age First Name  \\\n",
      "0  A001  Project 1  1002000.0  Finished      M    Paris   25       John   \n",
      "1  A002  Project 2  2000000.0   Ongoing      F   London   27      Alice   \n",
      "2  A003  Project 3  4500000.0  Finished      M   Berlin   29        Tom   \n",
      "3  A004  Project 4  5500000.0   Ongoing      F  Newyork   31       Nina   \n",
      "4  A005  Project 5  3250500.0  Finished      F   Madrid   30        Amy   \n",
      "\n",
      "   Last Name  Designation Level     Bonus  \n",
      "0      Alter                  1   50100.0  \n",
      "1  Luxumberg                  1       0.0  \n",
      "2  Sabestine                  2  225000.0  \n",
      "3      Adgra                  2       0.0  \n",
      "4      Johny                  3  162525.0  \n"
     ]
    }
   ],
   "source": [
    "# Identify employees who have a failed project\n",
    "failed_ids = final_df.loc[final_df[\"Status\"] == \"Failed\", \"ID\"].unique()\n",
    "\n",
    "# Reduce designation level by 1 for those employees\n",
    "final_df.loc[final_df[\"ID\"].isin(failed_ids), \"Designation Level\"] -= 1\n",
    "\n",
    "# Remove employees whose designation level is greater than 4\n",
    "final_df = final_df[final_df[\"Designation Level\"] <= 4]\n",
    "\n",
    "# Save the updated Final DataFrame\n",
    "final_df.to_csv(\"Final.csv\", index=False)\n",
    "\n",
    "# Display initial data\n",
    "print(final_df.head())"
   ]
  },
  {
   "cell_type": "markdown",
   "metadata": {},
   "source": [
    "## Task 7: Add “Mr.” and “Mrs.” to the first name column and drop the gender column."
   ]
  },
  {
   "cell_type": "code",
   "execution_count": 22,
   "metadata": {},
   "outputs": [
    {
     "name": "stdout",
     "output_type": "stream",
     "text": [
      "     ID    Project       Cost    Status Gender     City  Age First Name  \\\n",
      "0  A001  Project 1  1002000.0  Finished      M    Paris   25       John   \n",
      "1  A002  Project 2  2000000.0   Ongoing      F   London   27      Alice   \n",
      "2  A003  Project 3  4500000.0  Finished      M   Berlin   29        Tom   \n",
      "3  A004  Project 4  5500000.0   Ongoing      F  Newyork   31       Nina   \n",
      "4  A005  Project 5  3250500.0  Finished      F   Madrid   30        Amy   \n",
      "\n",
      "   Last Name  Designation Level     Bonus  \n",
      "0      Alter                  1   50100.0  \n",
      "1  Luxumberg                  1       0.0  \n",
      "2  Sabestine                  2  225000.0  \n",
      "3      Adgra                  2       0.0  \n",
      "4      Johny                  3  162525.0  \n"
     ]
    }
   ],
   "source": [
    "# Load the Final DataFrame\n",
    "final_df = pd.read_csv(\"Final.csv\")\n",
    "\n",
    "# Display initial data\n",
    "print(final_df.head())"
   ]
  },
  {
   "cell_type": "code",
   "execution_count": 23,
   "metadata": {},
   "outputs": [
    {
     "name": "stdout",
     "output_type": "stream",
     "text": [
      "     ID    Project       Cost    Status     City  Age  First Name  Last Name  \\\n",
      "0  A001  Project 1  1002000.0  Finished    Paris   25    Mr. John      Alter   \n",
      "1  A002  Project 2  2000000.0   Ongoing   London   27  Mrs. Alice  Luxumberg   \n",
      "2  A003  Project 3  4500000.0  Finished   Berlin   29     Mr. Tom  Sabestine   \n",
      "3  A004  Project 4  5500000.0   Ongoing  Newyork   31   Mrs. Nina      Adgra   \n",
      "4  A005  Project 5  3250500.0  Finished   Madrid   30    Mrs. Amy      Johny   \n",
      "\n",
      "   Designation Level     Bonus  \n",
      "0                  1   50100.0  \n",
      "1                  1       0.0  \n",
      "2                  2  225000.0  \n",
      "3                  2       0.0  \n",
      "4                  3  162525.0  \n"
     ]
    }
   ],
   "source": [
    "# Add \"Mr.\" or \"Mrs.\" based on gender\n",
    "final_df[\"First Name\"] = final_df.apply(\n",
    "    lambda row: \"Mr. \" + row[\"First Name\"] if row[\"Gender\"] == \"M\" else \"Mrs. \" + row[\"First Name\"],\n",
    "    axis=1\n",
    ")\n",
    "\n",
    "# Drop the Gender column\n",
    "final_df = final_df.drop(columns=[\"Gender\"])\n",
    "\n",
    "# Display updated DataFrame\n",
    "print(final_df.head())\n",
    "\n",
    "# Save the updated Final DataFrame\n",
    "final_df.to_csv(\"Final.csv\", index=False)"
   ]
  },
  {
   "cell_type": "markdown",
   "metadata": {},
   "source": [
    "## Task 8: Promote designation level by 1 for the employees whose age is more than 29 years using IF condition."
   ]
  },
  {
   "cell_type": "code",
   "execution_count": 24,
   "metadata": {},
   "outputs": [
    {
     "name": "stdout",
     "output_type": "stream",
     "text": [
      "     ID    Project       Cost    Status     City  Age  First Name  Last Name  \\\n",
      "0  A001  Project 1  1002000.0  Finished    Paris   25    Mr. John      Alter   \n",
      "1  A002  Project 2  2000000.0   Ongoing   London   27  Mrs. Alice  Luxumberg   \n",
      "2  A003  Project 3  4500000.0  Finished   Berlin   29     Mr. Tom  Sabestine   \n",
      "3  A004  Project 4  5500000.0   Ongoing  Newyork   31   Mrs. Nina      Adgra   \n",
      "4  A005  Project 5  3250500.0  Finished   Madrid   30    Mrs. Amy      Johny   \n",
      "\n",
      "   Designation Level     Bonus  \n",
      "0                  1   50100.0  \n",
      "1                  1       0.0  \n",
      "2                  2  225000.0  \n",
      "3                  2       0.0  \n",
      "4                  3  162525.0  \n"
     ]
    }
   ],
   "source": [
    "# Load the Final DataFrame\n",
    "final_df = pd.read_csv(\"Final.csv\")\n",
    "\n",
    "# Display initial data\n",
    "print(final_df.head())"
   ]
  },
  {
   "cell_type": "code",
   "execution_count": 25,
   "metadata": {},
   "outputs": [
    {
     "name": "stdout",
     "output_type": "stream",
     "text": [
      "     ID    Project       Cost    Status     City  Age  First Name  Last Name  \\\n",
      "0  A001  Project 1  1002000.0  Finished    Paris   25    Mr. John      Alter   \n",
      "1  A002  Project 2  2000000.0   Ongoing   London   27  Mrs. Alice  Luxumberg   \n",
      "2  A003  Project 3  4500000.0  Finished   Berlin   29     Mr. Tom  Sabestine   \n",
      "3  A004  Project 4  5500000.0   Ongoing  Newyork   31   Mrs. Nina      Adgra   \n",
      "4  A005  Project 5  3250500.0  Finished   Madrid   30    Mrs. Amy      Johny   \n",
      "\n",
      "   Designation Level     Bonus  \n",
      "0                  1   50100.0  \n",
      "1                  1       0.0  \n",
      "2                  2  225000.0  \n",
      "3                  3       0.0  \n",
      "4                  4  162525.0  \n"
     ]
    }
   ],
   "source": [
    "# Promote designation level by 1 for employees with age > 29\n",
    "final_df[\"Designation Level\"] = final_df.apply(\n",
    "    lambda row: row[\"Designation Level\"] + 1 if row[\"Age\"] > 29 else row[\"Designation Level\"],\n",
    "    axis=1\n",
    ")\n",
    "\n",
    "# Ensure the designation level remains within the valid range (1 to 4)\n",
    "final_df[\"Designation Level\"] = final_df[\"Designation Level\"].apply(lambda x: min(x, 4))\n",
    "\n",
    "# Save the updated Final DataFrame\n",
    "final_df.to_csv(\"Final.csv\", index=False)\n",
    "\n",
    "# Display updated DataFrame\n",
    "print(final_df.head())\n"
   ]
  },
  {
   "cell_type": "markdown",
   "metadata": {},
   "source": [
    "## Task 9 : Add the cost of all projects for each Employee and save it in new dataframe “TotalProjCost” with three columns ID, First Name, and Total cost\n"
   ]
  },
  {
   "cell_type": "code",
   "execution_count": 26,
   "metadata": {},
   "outputs": [
    {
     "name": "stdout",
     "output_type": "stream",
     "text": [
      "     ID    Project       Cost    Status     City  Age  First Name  Last Name  \\\n",
      "0  A001  Project 1  1002000.0  Finished    Paris   25    Mr. John      Alter   \n",
      "1  A002  Project 2  2000000.0   Ongoing   London   27  Mrs. Alice  Luxumberg   \n",
      "2  A003  Project 3  4500000.0  Finished   Berlin   29     Mr. Tom  Sabestine   \n",
      "3  A004  Project 4  5500000.0   Ongoing  Newyork   31   Mrs. Nina      Adgra   \n",
      "4  A005  Project 5  3250500.0  Finished   Madrid   30    Mrs. Amy      Johny   \n",
      "\n",
      "   Designation Level     Bonus  \n",
      "0                  1   50100.0  \n",
      "1                  1       0.0  \n",
      "2                  2  225000.0  \n",
      "3                  3       0.0  \n",
      "4                  4  162525.0  \n",
      "     ID  First Name    Total Cost\n",
      "0  A001    Mr. John  5.063714e+06\n",
      "1  A002  Mrs. Alice  2.680000e+06\n",
      "2  A003     Mr. Tom  5.150000e+06\n",
      "3  A004   Mrs. Nina  9.500000e+06\n",
      "4  A005    Mrs. Amy  3.850500e+06\n"
     ]
    }
   ],
   "source": [
    "# Load the Final DataFrame\n",
    "final_df = pd.read_csv(\"Final.csv\")\n",
    "\n",
    "# Display initial data\n",
    "print(final_df.head())\n",
    "\n",
    "# Group by ID and sum the 'Cost' for each employee\n",
    "total_costs = final_df.groupby([\"ID\", \"First Name\"])[\"Cost\"].sum().reset_index()\n",
    "\n",
    "# Rename the 'Cost' column to 'Total Cost'\n",
    "total_costs = total_costs.rename(columns={\"Cost\": \"Total Cost\"})\n",
    "\n",
    "# Display the result\n",
    "print(total_costs.head())\n",
    "\n",
    "# Save the TotalProjCost DataFrame to CSV\n",
    "total_costs.to_csv(\"TotalProjCost.csv\", index=False)"
   ]
  },
  {
   "cell_type": "code",
   "execution_count": 27,
   "metadata": {},
   "outputs": [
    {
     "name": "stdout",
     "output_type": "stream",
     "text": [
      "     ID  First Name    Total Cost\n",
      "0  A001    Mr. John  5.063714e+06\n",
      "1  A002  Mrs. Alice  2.680000e+06\n",
      "2  A003     Mr. Tom  5.150000e+06\n",
      "3  A004   Mrs. Nina  9.500000e+06\n",
      "4  A005    Mrs. Amy  3.850500e+06\n"
     ]
    }
   ],
   "source": [
    "# Display the result\n",
    "print(total_costs.head())"
   ]
  },
  {
   "cell_type": "markdown",
   "metadata": {},
   "source": [
    "## Task 10: Print all the employee details whose city name contains the letter “o” in it.\n"
   ]
  },
  {
   "cell_type": "code",
   "execution_count": 28,
   "metadata": {},
   "outputs": [
    {
     "name": "stdout",
     "output_type": "stream",
     "text": [
      "      ID     Project       Cost    Status     City  Age  First Name  \\\n",
      "1   A002   Project 2  2000000.0   Ongoing   London   27  Mrs. Alice   \n",
      "3   A004   Project 4  5500000.0   Ongoing  Newyork   31   Mrs. Nina   \n",
      "5   A002   Project 6   680000.0    Failed   London   27  Mrs. Alice   \n",
      "11  A004  Project 12  1000000.0   Ongoing  Newyork   31   Mrs. Nina   \n",
      "12  A004  Project 13  3000000.0  Finished  Newyork   31   Mrs. Nina   \n",
      "\n",
      "    Last Name  Designation Level     Bonus  \n",
      "1   Luxumberg                  1       0.0  \n",
      "3       Adgra                  3       0.0  \n",
      "5   Luxumberg                  1       0.0  \n",
      "11      Adgra                  3       0.0  \n",
      "12      Adgra                  3  150000.0  \n"
     ]
    }
   ],
   "source": [
    "# Load the Final DataFrame\n",
    "final_df = pd.read_csv(\"Final.csv\")\n",
    "\n",
    "# Filter employees whose city contains the letter \"o\"\n",
    "filtered_df = final_df[final_df[\"City\"].str.contains(\"o\", case=False, na=False)]\n",
    "\n",
    "# Display the filtered data\n",
    "print(filtered_df)"
   ]
  },
  {
   "cell_type": "code",
   "execution_count": 29,
   "metadata": {},
   "outputs": [
    {
     "name": "stdout",
     "output_type": "stream",
     "text": [
      "      ID  First Name  Last Name     City  Age  Designation Level\n",
      "1   A002  Mrs. Alice  Luxumberg   London   27                  1\n",
      "3   A004   Mrs. Nina      Adgra  Newyork   31                  3\n",
      "5   A002  Mrs. Alice  Luxumberg   London   27                  1\n",
      "11  A004   Mrs. Nina      Adgra  Newyork   31                  3\n",
      "12  A004   Mrs. Nina      Adgra  Newyork   31                  3\n"
     ]
    }
   ],
   "source": [
    "# Print the details of filtered employees\n",
    "print(filtered_df[[\"ID\", \"First Name\", \"Last Name\", \"City\", \"Age\", \"Designation Level\"]])"
   ]
  },
  {
   "cell_type": "code",
   "execution_count": null,
   "metadata": {},
   "outputs": [],
   "source": []
  }
 ],
 "metadata": {
  "kernelspec": {
   "display_name": "Python 3",
   "language": "python",
   "name": "python3"
  },
  "language_info": {
   "codemirror_mode": {
    "name": "ipython",
    "version": 3
   },
   "file_extension": ".py",
   "mimetype": "text/x-python",
   "name": "python",
   "nbconvert_exporter": "python",
   "pygments_lexer": "ipython3",
   "version": "3.8.5"
  }
 },
 "nbformat": 4,
 "nbformat_minor": 4
}
